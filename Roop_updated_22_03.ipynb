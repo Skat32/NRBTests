{
  "cells": [
    {
      "cell_type": "markdown",
      "metadata": {
        "id": "view-in-github",
        "colab_type": "text"
      },
      "source": [
        "<a href=\"https://colab.research.google.com/github/Skat32/NRBTests/blob/master/Roop_updated_22_03.ipynb\" target=\"_parent\"><img src=\"https://colab.research.google.com/assets/colab-badge.svg\" alt=\"Open In Colab\"/></a>"
      ]
    },
    {
      "cell_type": "markdown",
      "source": [
        "# **Roop colab by marat_ai**\n",
        "\n",
        "\n",
        "![youtube.png](data:image/png;base64,iVBORw0KGgoAAAANSUhEUgAAABAAAAAQCAMAAAAoLQ9TAAAAJ1BMVEVHcEz/AAD/AAD/AAD/AAD/AAD/AAD/AAD/AAD/////mJj/wcH/jY3aUCqcAAAACHRSTlMA8czbELSvDrGIfzkAAABCSURBVBiVY2AgA7CwMTMycgABIyMzGztQgIkDCTABBThQAEyAixtNgIeTkwu/AIYWZEMxrGVhZWaE8BiZWVnI8RoAJWEEDt2WmW4AAAAASUVORK5CYII=) **[YouTube](https://www.youtube.com/@marat_ai)** | ![youtube.png](data:image/png;base64,iVBORw0KGgoAAAANSUhEUgAAABAAAAAQCAMAAAAoLQ9TAAAA0lBMVEVHcEwASXEAVIIASXEAW40AW40AW40AW40AW40AW40ASXEARmwASXEAPV4ATnkAQGQAUoAAUn8AWowAQmYANFEANVIAQWUASXEAUHwAQmcAWowASXEAUX0AW40ASXGPscSPr8B/pLh/rcYMUXdJfZkDS3KlwtIqdqBWhqB9q8WZtsY/dpQzbY1Xh6GUs8MAWowAUHwAVoUqdp8AVIJ9pLkqZ4h9orelvsyJq70AWosAWYoATniNrb+kwM8ATHZ+oreBpbnF1t8DS3PI1+BbiaNbiqT25ex8AAAAHXRSTlMAmzOe3PvEmp3+3Ar+CjM0M/v7CgoKCsUzNNz7+yV3I4EAAACzSURBVBjTTY/XEoJADEUjbUEBezdrASxg7737/79kdmEcz9PeM5NsLgCRY5qua0yBmKJpocQyMyJXDPxhCGPiHyZAzcJBvy3pL9FSgCGOhlwyXC+QgYbYO/si+/suXzVAJ+Hdyfg3r8t5Kxbj12TyGAvRlCPR9Pl5B9OIRFouDQOxIwi3nKfApW8vHcluw+26POx45QkqXerQ6YdTnKtlUcahcrM5RVstJX1dphXy6VRWvL8EBRlO0i9n9wAAAABJRU5ErkJggg==) **[sdg.marat@gmail.com]** |\n",
        "![pp.png](data:image/png;base64,iVBORw0KGgoAAAANSUhEUgAAABAAAAAQCAYAAAAf8/9hAAAACXBIWXMAAAsTAAALEwEAmpwYAAAAtUlEQVQ4jWNgYGBYCcSrgLibARNwAnEUEE8G4gVAXAvEOuiK/gHxfyC+gCbuAMSPoXLIGKR+NhBz4DPACoh/YNGMjDcAMSM2A5iB+DoBzTAcgc0AByI1g/BebAYUkWDAe2wGlJFgwBdsBviTYMBpbAZwAfFLIg0owGYACEQRofk8AzQt4EpI2UD8C4fmk0AsBVOIywAQUGaAJPEjQHwJiNcBcTQDJK3AAT4DiAIDbwC+7EwQAADZX5HHysvpxQAAAABJRU5ErkJggg==) [Other Notebooks](https://www.patreon.com/marat_ai)\n",
        "\n",
        "_For more notebooks with stable diffusion and others, please check my Patreon page._"
      ],
      "metadata": {
        "id": "Yet2oUYKPGoL"
      }
    },
    {
      "cell_type": "code",
      "execution_count": 1,
      "metadata": {
        "id": "0aHr4Fo-7IRy",
        "outputId": "23378011-a9cb-485e-9feb-fc291c436805",
        "colab": {
          "base_uri": "https://localhost:8080/"
        }
      },
      "outputs": [
        {
          "output_type": "stream",
          "name": "stdout",
          "text": [
            "\u001b[1;32mDone!\n"
          ]
        }
      ],
      "source": [
        "from IPython.display import clear_output\n",
        "!git clone https://github.com/s0md3v/roop.git\n",
        "%cd roop\n",
        "!pip install -r requirements.txt\n",
        "\n",
        "clear_output()\n",
        "print('\u001b[1;32mDone!')"
      ]
    },
    {
      "cell_type": "code",
      "execution_count": 2,
      "metadata": {
        "id": "UQH2exUYGTbK",
        "outputId": "e8884609-f730-4cbe-8e48-13505f9cdb51",
        "colab": {
          "base_uri": "https://localhost:8080/"
        }
      },
      "outputs": [
        {
          "output_type": "stream",
          "name": "stdout",
          "text": [
            "--2024-10-16 10:28:44--  https://huggingface.co/ezioruan/inswapper_128.onnx/resolve/main/inswapper_128.onnx\n",
            "Resolving huggingface.co (huggingface.co)... 18.65.25.103, 18.65.25.32, 18.65.25.54, ...\n",
            "Connecting to huggingface.co (huggingface.co)|18.65.25.103|:443... connected.\n",
            "HTTP request sent, awaiting response... 302 Found\n",
            "Location: https://cdn-lfs.hf.co/repos/40/3c/403ce23d3f5c02a28fcbe749205d5c8245b2812e6c948bae7abac24495779bc7/e4a3f08c753cb72d04e10aa0f7dbe3deebbf39567d4ead6dce08e98aa49e16af?response-content-disposition=inline%3B+filename*%3DUTF-8%27%27inswapper_128.onnx%3B+filename%3D%22inswapper_128.onnx%22%3B&Expires=1729333725&Policy=eyJTdGF0ZW1lbnQiOlt7IkNvbmRpdGlvbiI6eyJEYXRlTGVzc1RoYW4iOnsiQVdTOkVwb2NoVGltZSI6MTcyOTMzMzcyNX19LCJSZXNvdXJjZSI6Imh0dHBzOi8vY2RuLWxmcy5oZi5jby9yZXBvcy80MC8zYy80MDNjZTIzZDNmNWMwMmEyOGZjYmU3NDkyMDVkNWM4MjQ1YjI4MTJlNmM5NDhiYWU3YWJhYzI0NDk1Nzc5YmM3L2U0YTNmMDhjNzUzY2I3MmQwNGUxMGFhMGY3ZGJlM2RlZWJiZjM5NTY3ZDRlYWQ2ZGNlMDhlOThhYTQ5ZTE2YWY%7EcmVzcG9uc2UtY29udGVudC1kaXNwb3NpdGlvbj0qIn1dfQ__&Signature=SGzayme4xpeShykW5WPvGpe%7ELNGCSYF1an2AHsNJrtBX5EQ8H8eXFR8WyL2MOCgVeWDTMzRXi3dATPSYjRbw-2R7AIwgaN8IYMb6-VdCCJd8fmaIRX5EJMyB5eLCgDOPR%7EdFnmB6OsvCEdG1vMwqsmrlvLyuUlroVc-ZOL6XW--tIL6D2EY8JX-5SxuNlMrHv9LKZiVawvaqX667SeWdC4uc7nkvvUalWigJpjVa87o7vKZltBSV0hk0WDhIcaLsNpeW2Vp1ccDilPBoqm%7E6VZD1E7BVmEOuzvX6T3BtuyFxbB5vV0x2RCpUW0aazw-4blmPQ-LsvR4EMm0PMuFxgQ__&Key-Pair-Id=K3RPWS32NSSJCE [following]\n",
            "--2024-10-16 10:28:45--  https://cdn-lfs.hf.co/repos/40/3c/403ce23d3f5c02a28fcbe749205d5c8245b2812e6c948bae7abac24495779bc7/e4a3f08c753cb72d04e10aa0f7dbe3deebbf39567d4ead6dce08e98aa49e16af?response-content-disposition=inline%3B+filename*%3DUTF-8%27%27inswapper_128.onnx%3B+filename%3D%22inswapper_128.onnx%22%3B&Expires=1729333725&Policy=eyJTdGF0ZW1lbnQiOlt7IkNvbmRpdGlvbiI6eyJEYXRlTGVzc1RoYW4iOnsiQVdTOkVwb2NoVGltZSI6MTcyOTMzMzcyNX19LCJSZXNvdXJjZSI6Imh0dHBzOi8vY2RuLWxmcy5oZi5jby9yZXBvcy80MC8zYy80MDNjZTIzZDNmNWMwMmEyOGZjYmU3NDkyMDVkNWM4MjQ1YjI4MTJlNmM5NDhiYWU3YWJhYzI0NDk1Nzc5YmM3L2U0YTNmMDhjNzUzY2I3MmQwNGUxMGFhMGY3ZGJlM2RlZWJiZjM5NTY3ZDRlYWQ2ZGNlMDhlOThhYTQ5ZTE2YWY%7EcmVzcG9uc2UtY29udGVudC1kaXNwb3NpdGlvbj0qIn1dfQ__&Signature=SGzayme4xpeShykW5WPvGpe%7ELNGCSYF1an2AHsNJrtBX5EQ8H8eXFR8WyL2MOCgVeWDTMzRXi3dATPSYjRbw-2R7AIwgaN8IYMb6-VdCCJd8fmaIRX5EJMyB5eLCgDOPR%7EdFnmB6OsvCEdG1vMwqsmrlvLyuUlroVc-ZOL6XW--tIL6D2EY8JX-5SxuNlMrHv9LKZiVawvaqX667SeWdC4uc7nkvvUalWigJpjVa87o7vKZltBSV0hk0WDhIcaLsNpeW2Vp1ccDilPBoqm%7E6VZD1E7BVmEOuzvX6T3BtuyFxbB5vV0x2RCpUW0aazw-4blmPQ-LsvR4EMm0PMuFxgQ__&Key-Pair-Id=K3RPWS32NSSJCE\n",
            "Resolving cdn-lfs.hf.co (cdn-lfs.hf.co)... 3.168.132.48, 3.168.132.99, 3.168.132.25, ...\n",
            "Connecting to cdn-lfs.hf.co (cdn-lfs.hf.co)|3.168.132.48|:443... connected.\n",
            "HTTP request sent, awaiting response... 200 OK\n",
            "Length: 554253681 (529M) [binary/octet-stream]\n",
            "Saving to: ‘inswapper_128.onnx’\n",
            "\n",
            "inswapper_128.onnx  100%[===================>] 528.58M  98.1MB/s    in 5.1s    \n",
            "\n",
            "2024-10-16 10:28:50 (104 MB/s) - ‘inswapper_128.onnx’ saved [554253681/554253681]\n",
            "\n",
            "--2024-10-16 10:28:50--  https://huggingface.co/MarioG/ff_components/resolve/main/onnxruntime_gpu-1.16.3-cp310-cp310-linux_x86_64.whl?download=true\n",
            "Resolving huggingface.co (huggingface.co)... 18.65.25.103, 18.65.25.32, 18.65.25.54, ...\n",
            "Connecting to huggingface.co (huggingface.co)|18.65.25.103|:443... connected.\n",
            "HTTP request sent, awaiting response... 307 Temporary Redirect\n",
            "Location: /rocketpal/ff_components/resolve/main/onnxruntime_gpu-1.16.3-cp310-cp310-linux_x86_64.whl?download=true [following]\n",
            "--2024-10-16 10:28:50--  https://huggingface.co/rocketpal/ff_components/resolve/main/onnxruntime_gpu-1.16.3-cp310-cp310-linux_x86_64.whl?download=true\n",
            "Reusing existing connection to huggingface.co:443.\n",
            "HTTP request sent, awaiting response... 302 Found\n",
            "Location: https://cdn-lfs-us-1.hf.co/repos/e7/64/e764e47c02e62826937ccc2d6ae67f9051b233ab0ec3f8fecaf75681acd10c06/c8401c71849d326380da0917bbf214797ae88378673264cd176f2042ed159761?response-content-disposition=attachment%3B+filename*%3DUTF-8%27%27onnxruntime_gpu-1.16.3-cp310-cp310-linux_x86_64.whl%3B+filename%3D%22onnxruntime_gpu-1.16.3-cp310-cp310-linux_x86_64.whl%22%3B&Expires=1729333730&Policy=eyJTdGF0ZW1lbnQiOlt7IkNvbmRpdGlvbiI6eyJEYXRlTGVzc1RoYW4iOnsiQVdTOkVwb2NoVGltZSI6MTcyOTMzMzczMH19LCJSZXNvdXJjZSI6Imh0dHBzOi8vY2RuLWxmcy11cy0xLmhmLmNvL3JlcG9zL2U3LzY0L2U3NjRlNDdjMDJlNjI4MjY5MzdjY2MyZDZhZTY3ZjkwNTFiMjMzYWIwZWMzZjhmZWNhZjc1NjgxYWNkMTBjMDYvYzg0MDFjNzE4NDlkMzI2MzgwZGEwOTE3YmJmMjE0Nzk3YWU4ODM3ODY3MzI2NGNkMTc2ZjIwNDJlZDE1OTc2MT9yZXNwb25zZS1jb250ZW50LWRpc3Bvc2l0aW9uPSoifV19&Signature=VvJVsNNckKSuXK1CTNfi89GvOpTAIZArnqb2LlrxllCLXpb8q7XK924Bg3PfAiFc4kfvbelO0afW4ZAHxexFx4UCBOQ55oFvOT1UNK%7EdvQREu4t13aifjAV1ft1s7Hx3v0TVqkJqEGvkdFbEzLQ0cymwx7stLv3jBgzBK6QwB-rILaWkl4i1G7o43WTpIFSgs3lEFmw-PZt-mV-0DDpP6hczTosUG3MIDbzGWMFwmBe7ACTFgZdsd8FP5RYs73aImOd5FiXxNpFRRM-tyjY07M9nva8jbKP66gfeStUKYub0POuH4H9trRSWqhaRy4LRSIheZvBI6DtBo96ey8qKkg__&Key-Pair-Id=K24J24Z295AEI9 [following]\n",
            "--2024-10-16 10:28:50--  https://cdn-lfs-us-1.hf.co/repos/e7/64/e764e47c02e62826937ccc2d6ae67f9051b233ab0ec3f8fecaf75681acd10c06/c8401c71849d326380da0917bbf214797ae88378673264cd176f2042ed159761?response-content-disposition=attachment%3B+filename*%3DUTF-8%27%27onnxruntime_gpu-1.16.3-cp310-cp310-linux_x86_64.whl%3B+filename%3D%22onnxruntime_gpu-1.16.3-cp310-cp310-linux_x86_64.whl%22%3B&Expires=1729333730&Policy=eyJTdGF0ZW1lbnQiOlt7IkNvbmRpdGlvbiI6eyJEYXRlTGVzc1RoYW4iOnsiQVdTOkVwb2NoVGltZSI6MTcyOTMzMzczMH19LCJSZXNvdXJjZSI6Imh0dHBzOi8vY2RuLWxmcy11cy0xLmhmLmNvL3JlcG9zL2U3LzY0L2U3NjRlNDdjMDJlNjI4MjY5MzdjY2MyZDZhZTY3ZjkwNTFiMjMzYWIwZWMzZjhmZWNhZjc1NjgxYWNkMTBjMDYvYzg0MDFjNzE4NDlkMzI2MzgwZGEwOTE3YmJmMjE0Nzk3YWU4ODM3ODY3MzI2NGNkMTc2ZjIwNDJlZDE1OTc2MT9yZXNwb25zZS1jb250ZW50LWRpc3Bvc2l0aW9uPSoifV19&Signature=VvJVsNNckKSuXK1CTNfi89GvOpTAIZArnqb2LlrxllCLXpb8q7XK924Bg3PfAiFc4kfvbelO0afW4ZAHxexFx4UCBOQ55oFvOT1UNK%7EdvQREu4t13aifjAV1ft1s7Hx3v0TVqkJqEGvkdFbEzLQ0cymwx7stLv3jBgzBK6QwB-rILaWkl4i1G7o43WTpIFSgs3lEFmw-PZt-mV-0DDpP6hczTosUG3MIDbzGWMFwmBe7ACTFgZdsd8FP5RYs73aImOd5FiXxNpFRRM-tyjY07M9nva8jbKP66gfeStUKYub0POuH4H9trRSWqhaRy4LRSIheZvBI6DtBo96ey8qKkg__&Key-Pair-Id=K24J24Z295AEI9\n",
            "Resolving cdn-lfs-us-1.hf.co (cdn-lfs-us-1.hf.co)... 18.164.174.97, 18.164.174.19, 18.164.174.52, ...\n",
            "Connecting to cdn-lfs-us-1.hf.co (cdn-lfs-us-1.hf.co)|18.164.174.97|:443... connected.\n",
            "HTTP request sent, awaiting response... 200 OK\n",
            "Length: 38654881 (37M) [binary/octet-stream]\n",
            "Saving to: ‘/content/onnxruntime_gpu-1.16.3-cp310-cp310-linux_x86_64.whl’\n",
            "\n",
            "/content/onnxruntim 100%[===================>]  36.86M   210MB/s    in 0.2s    \n",
            "\n",
            "2024-10-16 10:28:50 (210 MB/s) - ‘/content/onnxruntime_gpu-1.16.3-cp310-cp310-linux_x86_64.whl’ saved [38654881/38654881]\n",
            "\n",
            "\u001b[33mWARNING: Skipping onnxruntime as it is not installed.\u001b[0m\u001b[33m\n",
            "\u001b[0mProcessing /content/onnxruntime_gpu-1.16.3-cp310-cp310-linux_x86_64.whl\n",
            "Requirement already satisfied: coloredlogs in /usr/local/lib/python3.10/dist-packages (from onnxruntime-gpu==1.16.3) (15.0.1)\n",
            "Requirement already satisfied: flatbuffers in /usr/local/lib/python3.10/dist-packages (from onnxruntime-gpu==1.16.3) (24.3.25)\n",
            "Requirement already satisfied: numpy>=1.23.5 in /usr/local/lib/python3.10/dist-packages (from onnxruntime-gpu==1.16.3) (1.24.3)\n",
            "Requirement already satisfied: packaging in /usr/local/lib/python3.10/dist-packages (from onnxruntime-gpu==1.16.3) (24.1)\n",
            "Requirement already satisfied: protobuf in /usr/local/lib/python3.10/dist-packages (from onnxruntime-gpu==1.16.3) (4.23.4)\n",
            "Requirement already satisfied: sympy in /usr/local/lib/python3.10/dist-packages (from onnxruntime-gpu==1.16.3) (1.13.3)\n",
            "Requirement already satisfied: humanfriendly>=9.1 in /usr/local/lib/python3.10/dist-packages (from coloredlogs->onnxruntime-gpu==1.16.3) (10.0)\n",
            "Requirement already satisfied: mpmath<1.4,>=1.1.0 in /usr/local/lib/python3.10/dist-packages (from sympy->onnxruntime-gpu==1.16.3) (1.3.0)\n",
            "Installing collected packages: onnxruntime-gpu\n",
            "  Attempting uninstall: onnxruntime-gpu\n",
            "    Found existing installation: onnxruntime-gpu 1.15.1\n",
            "    Uninstalling onnxruntime-gpu-1.15.1:\n",
            "      Successfully uninstalled onnxruntime-gpu-1.15.1\n",
            "Successfully installed onnxruntime-gpu-1.16.3\n",
            "\u001b[1;32mDone!\n"
          ]
        }
      ],
      "source": [
        "!wget https://huggingface.co/ezioruan/inswapper_128.onnx/resolve/main/inswapper_128.onnx -O inswapper_128.onnx\n",
        "!mkdir models\n",
        "!mv inswapper_128.onnx ./models\n",
        "!wget -O /content/onnxruntime_gpu-1.16.3-cp310-cp310-linux_x86_64.whl \"https://huggingface.co/MarioG/ff_components/resolve/main/onnxruntime_gpu-1.16.3-cp310-cp310-linux_x86_64.whl?download=true\"\n",
        "!pip uninstall -y -q onnxruntime\n",
        "!pip install /content/onnxruntime_gpu-1.16.3-cp310-cp310-linux_x86_64.whl\n",
        "print('\u001b[1;32mDone!')"
      ]
    },
    {
      "cell_type": "code",
      "execution_count": 22,
      "metadata": {
        "id": "lDYdfL3L71i1",
        "outputId": "ad70e250-0d81-4792-93a8-1b89328a198e",
        "colab": {
          "base_uri": "https://localhost:8080/"
        }
      },
      "outputs": [
        {
          "output_type": "stream",
          "name": "stdout",
          "text": [
            "Applied providers: ['CUDAExecutionProvider', 'CPUExecutionProvider'], with options: {'CPUExecutionProvider': {}, 'CUDAExecutionProvider': {'tunable_op_max_tuning_duration_ms': '0', 'enable_skip_layer_norm_strict_mode': '0', 'tunable_op_tuning_enable': '0', 'device_id': '0', 'has_user_compute_stream': '0', 'gpu_mem_limit': '18446744073709551615', 'gpu_external_alloc': '0', 'gpu_external_free': '0', 'gpu_external_empty_cache': '0', 'cudnn_conv_algo_search': 'EXHAUSTIVE', 'cudnn_conv1d_pad_to_nc1d': '0', 'arena_extend_strategy': 'kNextPowerOfTwo', 'do_copy_in_default_stream': '1', 'enable_cuda_graph': '0', 'cudnn_conv_use_max_workspace': '1', 'tunable_op_enable': '0'}}\n",
            "find model: /root/.insightface/models/buffalo_l/1k3d68.onnx landmark_3d_68 ['None', 3, 192, 192] 0.0 1.0\n",
            "Applied providers: ['CUDAExecutionProvider', 'CPUExecutionProvider'], with options: {'CPUExecutionProvider': {}, 'CUDAExecutionProvider': {'tunable_op_max_tuning_duration_ms': '0', 'enable_skip_layer_norm_strict_mode': '0', 'tunable_op_tuning_enable': '0', 'device_id': '0', 'has_user_compute_stream': '0', 'gpu_mem_limit': '18446744073709551615', 'gpu_external_alloc': '0', 'gpu_external_free': '0', 'gpu_external_empty_cache': '0', 'cudnn_conv_algo_search': 'EXHAUSTIVE', 'cudnn_conv1d_pad_to_nc1d': '0', 'arena_extend_strategy': 'kNextPowerOfTwo', 'do_copy_in_default_stream': '1', 'enable_cuda_graph': '0', 'cudnn_conv_use_max_workspace': '1', 'tunable_op_enable': '0'}}\n",
            "find model: /root/.insightface/models/buffalo_l/2d106det.onnx landmark_2d_106 ['None', 3, 192, 192] 0.0 1.0\n",
            "Applied providers: ['CUDAExecutionProvider', 'CPUExecutionProvider'], with options: {'CPUExecutionProvider': {}, 'CUDAExecutionProvider': {'tunable_op_max_tuning_duration_ms': '0', 'enable_skip_layer_norm_strict_mode': '0', 'tunable_op_tuning_enable': '0', 'device_id': '0', 'has_user_compute_stream': '0', 'gpu_mem_limit': '18446744073709551615', 'gpu_external_alloc': '0', 'gpu_external_free': '0', 'gpu_external_empty_cache': '0', 'cudnn_conv_algo_search': 'EXHAUSTIVE', 'cudnn_conv1d_pad_to_nc1d': '0', 'arena_extend_strategy': 'kNextPowerOfTwo', 'do_copy_in_default_stream': '1', 'enable_cuda_graph': '0', 'cudnn_conv_use_max_workspace': '1', 'tunable_op_enable': '0'}}\n",
            "find model: /root/.insightface/models/buffalo_l/det_10g.onnx detection [1, 3, '?', '?'] 127.5 128.0\n",
            "Applied providers: ['CUDAExecutionProvider', 'CPUExecutionProvider'], with options: {'CPUExecutionProvider': {}, 'CUDAExecutionProvider': {'tunable_op_max_tuning_duration_ms': '0', 'enable_skip_layer_norm_strict_mode': '0', 'tunable_op_tuning_enable': '0', 'device_id': '0', 'has_user_compute_stream': '0', 'gpu_mem_limit': '18446744073709551615', 'gpu_external_alloc': '0', 'gpu_external_free': '0', 'gpu_external_empty_cache': '0', 'cudnn_conv_algo_search': 'EXHAUSTIVE', 'cudnn_conv1d_pad_to_nc1d': '0', 'arena_extend_strategy': 'kNextPowerOfTwo', 'do_copy_in_default_stream': '1', 'enable_cuda_graph': '0', 'cudnn_conv_use_max_workspace': '1', 'tunable_op_enable': '0'}}\n",
            "find model: /root/.insightface/models/buffalo_l/genderage.onnx genderage ['None', 3, 96, 96] 0.0 1.0\n",
            "Applied providers: ['CUDAExecutionProvider', 'CPUExecutionProvider'], with options: {'CPUExecutionProvider': {}, 'CUDAExecutionProvider': {'tunable_op_max_tuning_duration_ms': '0', 'enable_skip_layer_norm_strict_mode': '0', 'tunable_op_tuning_enable': '0', 'device_id': '0', 'has_user_compute_stream': '0', 'gpu_mem_limit': '18446744073709551615', 'gpu_external_alloc': '0', 'gpu_external_free': '0', 'gpu_external_empty_cache': '0', 'cudnn_conv_algo_search': 'EXHAUSTIVE', 'cudnn_conv1d_pad_to_nc1d': '0', 'arena_extend_strategy': 'kNextPowerOfTwo', 'do_copy_in_default_stream': '1', 'enable_cuda_graph': '0', 'cudnn_conv_use_max_workspace': '1', 'tunable_op_enable': '0'}}\n",
            "find model: /root/.insightface/models/buffalo_l/w600k_r50.onnx recognition ['None', 3, 112, 112] 127.5 127.5\n",
            "set det-size: (640, 640)\n",
            " 99% 906/916 [00:12<00:00, 71.60it/s]\n"
          ]
        }
      ],
      "source": [
        "!python run.py --target /content/video.mp4 --output-video-quality 0 --source /content/image.jpeg -o /content/swapped.mp4 --execution-provider cuda --frame-processor face_swapper face_enhancer --output-video-encoder libx264 --temp-frame-quality 0 --keep-fps"
      ]
    }
  ],
  "metadata": {
    "accelerator": "GPU",
    "colab": {
      "provenance": [],
      "gpuType": "T4",
      "include_colab_link": true
    },
    "kernelspec": {
      "display_name": "Python 3",
      "name": "python3"
    },
    "language_info": {
      "name": "python"
    }
  },
  "nbformat": 4,
  "nbformat_minor": 0
}